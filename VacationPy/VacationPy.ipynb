{
 "cells": [
  {
   "cell_type": "markdown",
   "metadata": {},
   "source": [
    "# VacationPy\n",
    "----\n",
    "\n",
    "#### Note\n",
    "* Uses Google API - use https://developers.google.com/maps/gmp-get-started to acquire an api key and https://developers.google.com/maps/reporting/gmp-reporting as reference for how to monitor your usage and billing."
   ]
  },
  {
   "cell_type": "code",
   "execution_count": 1,
   "metadata": {},
   "outputs": [],
   "source": [
    "# Dependencies and Setup\n",
    "import matplotlib.pyplot as plt\n",
    "import pandas as pd\n",
    "import numpy as np\n",
    "import requests\n",
    "import gmaps\n",
    "import os\n",
    "from pprint import pprint\n",
    "\n",
    "# Import API key\n",
    "from config import gmaps_key"
   ]
  },
  {
   "cell_type": "markdown",
   "metadata": {},
   "source": [
    "### Functions"
   ]
  },
  {
   "cell_type": "code",
   "execution_count": 2,
   "metadata": {},
   "outputs": [],
   "source": [
    "# Return the most recent date from the the list provided\n",
    "def getMostRecentDir(dir_list):\n",
    "    \n",
    "    dates = [int(date) for date in map(formatDate,dir_list)]\n",
    "    most_rec = str(max(dates))\n",
    "    return formatDate(most_rec)"
   ]
  },
  {
   "cell_type": "code",
   "execution_count": 3,
   "metadata": {},
   "outputs": [],
   "source": [
    "# Flips the format of the date from MMDDYYYY to YYYYMMDD and vice versa\n",
    "def formatDate(date):\n",
    "    return date[4:] + date[:4]"
   ]
  },
  {
   "cell_type": "code",
   "execution_count": 4,
   "metadata": {},
   "outputs": [],
   "source": [
    "# Compares the dataframe with the preference criteria\n",
    "def compareDFtoPref(df,prefs):\n",
    "    checklist = [\"Max Temp\", \"Humidity\", \"Cloudiness\", \"Wind Speed\"]\n",
    "    # check each column in checklist...\n",
    "    for col in checklist:\n",
    "        df = df.loc[df[col] >= prefs[col][0],:]\n",
    "        df = df.loc[df[col] <= prefs[col][1],:]\n",
    "    return df"
   ]
  },
  {
   "cell_type": "markdown",
   "metadata": {},
   "source": [
    "### Store Part I results into DataFrame\n",
    "* Load the csv exported in Part I to a DataFrame"
   ]
  },
  {
   "cell_type": "code",
   "execution_count": 5,
   "metadata": {},
   "outputs": [
    {
     "data": {
      "text/html": [
       "<div>\n",
       "<style scoped>\n",
       "    .dataframe tbody tr th:only-of-type {\n",
       "        vertical-align: middle;\n",
       "    }\n",
       "\n",
       "    .dataframe tbody tr th {\n",
       "        vertical-align: top;\n",
       "    }\n",
       "\n",
       "    .dataframe thead th {\n",
       "        text-align: right;\n",
       "    }\n",
       "</style>\n",
       "<table border=\"1\" class=\"dataframe\">\n",
       "  <thead>\n",
       "    <tr style=\"text-align: right;\">\n",
       "      <th></th>\n",
       "      <th>City</th>\n",
       "      <th>Lat</th>\n",
       "      <th>Lng</th>\n",
       "      <th>Max Temp</th>\n",
       "      <th>Humidity</th>\n",
       "      <th>Cloudiness</th>\n",
       "      <th>Wind Speed</th>\n",
       "      <th>Country</th>\n",
       "      <th>Date</th>\n",
       "    </tr>\n",
       "  </thead>\n",
       "  <tbody>\n",
       "    <tr>\n",
       "      <th>0</th>\n",
       "      <td>Hong Kong</td>\n",
       "      <td>22.29</td>\n",
       "      <td>114.16</td>\n",
       "      <td>64.99</td>\n",
       "      <td>75</td>\n",
       "      <td>14</td>\n",
       "      <td>7.29</td>\n",
       "      <td>HK</td>\n",
       "      <td>1609853050</td>\n",
       "    </tr>\n",
       "    <tr>\n",
       "      <th>1</th>\n",
       "      <td>Vakhrushev</td>\n",
       "      <td>48.98</td>\n",
       "      <td>142.97</td>\n",
       "      <td>-3.82</td>\n",
       "      <td>85</td>\n",
       "      <td>0</td>\n",
       "      <td>5.50</td>\n",
       "      <td>RU</td>\n",
       "      <td>1609853181</td>\n",
       "    </tr>\n",
       "    <tr>\n",
       "      <th>2</th>\n",
       "      <td>Khanbari</td>\n",
       "      <td>27.37</td>\n",
       "      <td>87.20</td>\n",
       "      <td>61.36</td>\n",
       "      <td>55</td>\n",
       "      <td>100</td>\n",
       "      <td>1.01</td>\n",
       "      <td>NP</td>\n",
       "      <td>1609853182</td>\n",
       "    </tr>\n",
       "    <tr>\n",
       "      <th>3</th>\n",
       "      <td>Chardara</td>\n",
       "      <td>41.25</td>\n",
       "      <td>67.97</td>\n",
       "      <td>29.53</td>\n",
       "      <td>77</td>\n",
       "      <td>28</td>\n",
       "      <td>5.64</td>\n",
       "      <td>KZ</td>\n",
       "      <td>1609853183</td>\n",
       "    </tr>\n",
       "    <tr>\n",
       "      <th>4</th>\n",
       "      <td>Port Alfred</td>\n",
       "      <td>-33.59</td>\n",
       "      <td>26.89</td>\n",
       "      <td>78.01</td>\n",
       "      <td>83</td>\n",
       "      <td>25</td>\n",
       "      <td>3.00</td>\n",
       "      <td>ZA</td>\n",
       "      <td>1609853184</td>\n",
       "    </tr>\n",
       "  </tbody>\n",
       "</table>\n",
       "</div>"
      ],
      "text/plain": [
       "          City    Lat     Lng  Max Temp  Humidity  Cloudiness  Wind Speed  \\\n",
       "0    Hong Kong  22.29  114.16     64.99        75          14        7.29   \n",
       "1   Vakhrushev  48.98  142.97     -3.82        85           0        5.50   \n",
       "2     Khanbari  27.37   87.20     61.36        55         100        1.01   \n",
       "3     Chardara  41.25   67.97     29.53        77          28        5.64   \n",
       "4  Port Alfred -33.59   26.89     78.01        83          25        3.00   \n",
       "\n",
       "  Country        Date  \n",
       "0      HK  1609853050  \n",
       "1      RU  1609853181  \n",
       "2      NP  1609853182  \n",
       "3      KZ  1609853183  \n",
       "4      ZA  1609853184  "
      ]
     },
     "execution_count": 5,
     "metadata": {},
     "output_type": "execute_result"
    }
   ],
   "source": [
    "# Get most recent directory in output\n",
    "output_path = os.path.join(\"..\",\"WeatherPy\",\"output\")\n",
    "output_dir_list = os.listdir(output_path)\n",
    "recent_dir = getMostRecentDir(output_dir_list)\n",
    "\n",
    "# Access the most recent directory and store the cities.csv file\n",
    "weather_csv_path = os.path.join(output_path,recent_dir,\"cities.csv\")\n",
    "weather_data = pd.read_csv(weather_csv_path)\n",
    "weather_df = pd.DataFrame(weather_data)\n",
    "weather_df.head()"
   ]
  },
  {
   "cell_type": "markdown",
   "metadata": {},
   "source": [
    "### Humidity Heatmap"
   ]
  },
  {
   "cell_type": "code",
   "execution_count": 6,
   "metadata": {},
   "outputs": [],
   "source": [
    "# Configure gmaps\n",
    "gmaps.configure(api_key = gmaps_key)\n",
    "\n",
    "# Use the Lat and Lng as locations and Humidity as the weight.\n",
    "locations = weather_df[[\"Lat\", \"Lng\"]].astype(float)\n",
    "humidity = weather_df[\"Humidity\"]"
   ]
  },
  {
   "cell_type": "code",
   "execution_count": 7,
   "metadata": {},
   "outputs": [],
   "source": [
    "# Add Heatmap layer to map\n",
    "fig = gmaps.figure(layout={\"height\":\"600px\",\"width\":\"900px\"},center=(30.0, 0.0),zoom_level=2)\n",
    "heat_layer = gmaps.heatmap_layer(locations, weights=humidity, dissipating=False, max_intensity=humidity.max(), point_radius=4)\n",
    "fig.add_layer(heat_layer)"
   ]
  },
  {
   "cell_type": "markdown",
   "metadata": {},
   "source": [
    "### Create new DataFrame fitting weather criteria\n",
    "* Narrow down the cities to fit weather conditions.\n",
    "* Drop any rows will null values."
   ]
  },
  {
   "cell_type": "code",
   "execution_count": 8,
   "metadata": {},
   "outputs": [],
   "source": [
    "# my personal preferences\n",
    "preferences = {\n",
    "    \"Max Temp\": [60,70],\n",
    "    \"Humidity\": [10,40],\n",
    "    \"Cloudiness\": [0,50],\n",
    "    \"Wind Speed\": [0,10]\n",
    "}"
   ]
  },
  {
   "cell_type": "markdown",
   "metadata": {},
   "source": [
    "### Hotel Map"
   ]
  },
  {
   "cell_type": "code",
   "execution_count": 9,
   "metadata": {},
   "outputs": [
    {
     "data": {
      "text/html": [
       "<div>\n",
       "<style scoped>\n",
       "    .dataframe tbody tr th:only-of-type {\n",
       "        vertical-align: middle;\n",
       "    }\n",
       "\n",
       "    .dataframe tbody tr th {\n",
       "        vertical-align: top;\n",
       "    }\n",
       "\n",
       "    .dataframe thead th {\n",
       "        text-align: right;\n",
       "    }\n",
       "</style>\n",
       "<table border=\"1\" class=\"dataframe\">\n",
       "  <thead>\n",
       "    <tr style=\"text-align: right;\">\n",
       "      <th></th>\n",
       "      <th>City</th>\n",
       "      <th>Lat</th>\n",
       "      <th>Lng</th>\n",
       "      <th>Max Temp</th>\n",
       "      <th>Humidity</th>\n",
       "      <th>Cloudiness</th>\n",
       "      <th>Wind Speed</th>\n",
       "      <th>Country</th>\n",
       "      <th>Date</th>\n",
       "    </tr>\n",
       "  </thead>\n",
       "  <tbody>\n",
       "    <tr>\n",
       "      <th>295</th>\n",
       "      <td>Rawson</td>\n",
       "      <td>-43.30</td>\n",
       "      <td>-65.10</td>\n",
       "      <td>65.23</td>\n",
       "      <td>36</td>\n",
       "      <td>0</td>\n",
       "      <td>6.89</td>\n",
       "      <td>AR</td>\n",
       "      <td>1609853466</td>\n",
       "    </tr>\n",
       "    <tr>\n",
       "      <th>425</th>\n",
       "      <td>Buin</td>\n",
       "      <td>-33.73</td>\n",
       "      <td>-70.75</td>\n",
       "      <td>66.20</td>\n",
       "      <td>37</td>\n",
       "      <td>0</td>\n",
       "      <td>4.70</td>\n",
       "      <td>CL</td>\n",
       "      <td>1609853727</td>\n",
       "    </tr>\n",
       "    <tr>\n",
       "      <th>521</th>\n",
       "      <td>Rāpar</td>\n",
       "      <td>23.57</td>\n",
       "      <td>70.63</td>\n",
       "      <td>65.53</td>\n",
       "      <td>40</td>\n",
       "      <td>0</td>\n",
       "      <td>6.26</td>\n",
       "      <td>IN</td>\n",
       "      <td>1609853846</td>\n",
       "    </tr>\n",
       "    <tr>\n",
       "      <th>528</th>\n",
       "      <td>Chabahar</td>\n",
       "      <td>25.29</td>\n",
       "      <td>60.64</td>\n",
       "      <td>67.21</td>\n",
       "      <td>35</td>\n",
       "      <td>0</td>\n",
       "      <td>9.08</td>\n",
       "      <td>IR</td>\n",
       "      <td>1609853854</td>\n",
       "    </tr>\n",
       "  </tbody>\n",
       "</table>\n",
       "</div>"
      ],
      "text/plain": [
       "         City    Lat    Lng  Max Temp  Humidity  Cloudiness  Wind Speed  \\\n",
       "295    Rawson -43.30 -65.10     65.23        36           0        6.89   \n",
       "425      Buin -33.73 -70.75     66.20        37           0        4.70   \n",
       "521     Rāpar  23.57  70.63     65.53        40           0        6.26   \n",
       "528  Chabahar  25.29  60.64     67.21        35           0        9.08   \n",
       "\n",
       "    Country        Date  \n",
       "295      AR  1609853466  \n",
       "425      CL  1609853727  \n",
       "521      IN  1609853846  \n",
       "528      IR  1609853854  "
      ]
     },
     "execution_count": 9,
     "metadata": {},
     "output_type": "execute_result"
    }
   ],
   "source": [
    "# Store into variable named `hotel_df`\n",
    "hotel_df = compareDFtoPref(weather_df, preferences)\n",
    "hotel_df"
   ]
  },
  {
   "cell_type": "code",
   "execution_count": 10,
   "metadata": {},
   "outputs": [],
   "source": [
    "# Add a \"Hotel Name\" column to the DataFrame\n",
    "hotel_df[\"Hotel Name\"] = \"\""
   ]
  },
  {
   "cell_type": "code",
   "execution_count": 11,
   "metadata": {},
   "outputs": [
    {
     "data": {
      "text/html": [
       "<div>\n",
       "<style scoped>\n",
       "    .dataframe tbody tr th:only-of-type {\n",
       "        vertical-align: middle;\n",
       "    }\n",
       "\n",
       "    .dataframe tbody tr th {\n",
       "        vertical-align: top;\n",
       "    }\n",
       "\n",
       "    .dataframe thead th {\n",
       "        text-align: right;\n",
       "    }\n",
       "</style>\n",
       "<table border=\"1\" class=\"dataframe\">\n",
       "  <thead>\n",
       "    <tr style=\"text-align: right;\">\n",
       "      <th></th>\n",
       "      <th>City</th>\n",
       "      <th>Lat</th>\n",
       "      <th>Lng</th>\n",
       "      <th>Max Temp</th>\n",
       "      <th>Humidity</th>\n",
       "      <th>Cloudiness</th>\n",
       "      <th>Wind Speed</th>\n",
       "      <th>Country</th>\n",
       "      <th>Date</th>\n",
       "      <th>Hotel Name</th>\n",
       "    </tr>\n",
       "  </thead>\n",
       "  <tbody>\n",
       "    <tr>\n",
       "      <th>295</th>\n",
       "      <td>Rawson</td>\n",
       "      <td>-43.30</td>\n",
       "      <td>-65.10</td>\n",
       "      <td>65.23</td>\n",
       "      <td>36</td>\n",
       "      <td>0</td>\n",
       "      <td>6.89</td>\n",
       "      <td>AR</td>\n",
       "      <td>1609853466</td>\n",
       "      <td>Hotel Punta León</td>\n",
       "    </tr>\n",
       "    <tr>\n",
       "      <th>425</th>\n",
       "      <td>Buin</td>\n",
       "      <td>-33.73</td>\n",
       "      <td>-70.75</td>\n",
       "      <td>66.20</td>\n",
       "      <td>37</td>\n",
       "      <td>0</td>\n",
       "      <td>4.70</td>\n",
       "      <td>CL</td>\n",
       "      <td>1609853727</td>\n",
       "      <td>Paihuen</td>\n",
       "    </tr>\n",
       "    <tr>\n",
       "      <th>521</th>\n",
       "      <td>Rāpar</td>\n",
       "      <td>23.57</td>\n",
       "      <td>70.63</td>\n",
       "      <td>65.53</td>\n",
       "      <td>40</td>\n",
       "      <td>0</td>\n",
       "      <td>6.26</td>\n",
       "      <td>IN</td>\n",
       "      <td>1609853846</td>\n",
       "      <td>Shreemati Khetbai Ramji Momaya Gala Senotorium</td>\n",
       "    </tr>\n",
       "    <tr>\n",
       "      <th>528</th>\n",
       "      <td>Chabahar</td>\n",
       "      <td>25.29</td>\n",
       "      <td>60.64</td>\n",
       "      <td>67.21</td>\n",
       "      <td>35</td>\n",
       "      <td>0</td>\n",
       "      <td>9.08</td>\n",
       "      <td>IR</td>\n",
       "      <td>1609853854</td>\n",
       "      <td>Shahanhotel</td>\n",
       "    </tr>\n",
       "  </tbody>\n",
       "</table>\n",
       "</div>"
      ],
      "text/plain": [
       "         City    Lat    Lng  Max Temp  Humidity  Cloudiness  Wind Speed  \\\n",
       "295    Rawson -43.30 -65.10     65.23        36           0        6.89   \n",
       "425      Buin -33.73 -70.75     66.20        37           0        4.70   \n",
       "521     Rāpar  23.57  70.63     65.53        40           0        6.26   \n",
       "528  Chabahar  25.29  60.64     67.21        35           0        9.08   \n",
       "\n",
       "    Country        Date                                      Hotel Name  \n",
       "295      AR  1609853466                                Hotel Punta León  \n",
       "425      CL  1609853727                                         Paihuen  \n",
       "521      IN  1609853846  Shreemati Khetbai Ramji Momaya Gala Senotorium  \n",
       "528      IR  1609853854                                     Shahanhotel  "
      ]
     },
     "execution_count": 11,
     "metadata": {},
     "output_type": "execute_result"
    }
   ],
   "source": [
    "# Hit the Google Places API for each city's coordinates\n",
    "base_url = \"https://maps.googleapis.com/maps/api/place/nearbysearch/json\"\n",
    "params = {\n",
    "    \"key\": gmaps_key,\n",
    "    \"radius\": 5000,\n",
    "    \"types\": \"lodging\",\n",
    "    \"keyword\": \"hotels\"\n",
    "}\n",
    "\n",
    "for i, row in hotel_df.iterrows():\n",
    "    # store city's latitude and longitude\n",
    "    lat = row[\"Lat\"]\n",
    "    lng = row[\"Lng\"]\n",
    "    params[\"location\"] = f\"{lat},{lng}\"\n",
    "    \n",
    "    # call Google Places API using base url and parameters\n",
    "    response = requests.get(base_url, params=params).json()\n",
    "\n",
    "    # Store the first Hotel result into the DataFrame\n",
    "    try:\n",
    "        hotel_df.loc[i, \"Hotel Name\"] = response[\"results\"][0][\"name\"]\n",
    "    except (KeyError, IndexError):\n",
    "        print(\"No hotels within {params['radius']} meters found\")\n",
    "\n",
    "hotel_df"
   ]
  },
  {
   "cell_type": "code",
   "execution_count": 12,
   "metadata": {},
   "outputs": [],
   "source": [
    "# NOTE: Do not change any of the code in this cell\n",
    "\n",
    "# Using the template add the hotel marks to the heatmap\n",
    "info_box_template = \"\"\"\n",
    "<dl>\n",
    "<dt>Name</dt><dd>{Hotel Name}</dd>\n",
    "<dt>City</dt><dd>{City}</dd>\n",
    "<dt>Country</dt><dd>{Country}</dd>\n",
    "</dl>\n",
    "\"\"\"\n",
    "# Store the DataFrame Row\n",
    "# NOTE: be sure to update with your DataFrame name\n",
    "hotel_info = [info_box_template.format(**row) for index, row in hotel_df.iterrows()]\n",
    "locations = hotel_df[[\"Lat\", \"Lng\"]]"
   ]
  },
  {
   "cell_type": "code",
   "execution_count": 13,
   "metadata": {},
   "outputs": [
    {
     "data": {
      "application/vnd.jupyter.widget-view+json": {
       "model_id": "3955d80dce5e4ad9afc23dd567b1a465",
       "version_major": 2,
       "version_minor": 0
      },
      "text/plain": [
       "Figure(layout=FigureLayout(height='600px', width='900px'))"
      ]
     },
     "metadata": {},
     "output_type": "display_data"
    }
   ],
   "source": [
    "# Add marker layer ontop of heat map\n",
    "marker_layer = gmaps.marker_layer(locations, info_box_content=hotel_info)\n",
    "fig.add_layer(marker_layer)\n",
    "\n",
    "# Display figure\n",
    "fig"
   ]
  },
  {
   "cell_type": "code",
   "execution_count": null,
   "metadata": {},
   "outputs": [],
   "source": []
  }
 ],
 "metadata": {
  "kernelspec": {
   "display_name": "Python 3",
   "language": "python",
   "name": "python3"
  },
  "language_info": {
   "codemirror_mode": {
    "name": "ipython",
    "version": 3
   },
   "file_extension": ".py",
   "mimetype": "text/x-python",
   "name": "python",
   "nbconvert_exporter": "python",
   "pygments_lexer": "ipython3",
   "version": "3.8.3"
  },
  "latex_envs": {
   "LaTeX_envs_menu_present": true,
   "autoclose": false,
   "autocomplete": true,
   "bibliofile": "biblio.bib",
   "cite_by": "apalike",
   "current_citInitial": 1,
   "eqLabelWithNumbers": true,
   "eqNumInitial": 1,
   "hotkeys": {
    "equation": "Ctrl-E",
    "itemize": "Ctrl-I"
   },
   "labels_anchors": false,
   "latex_user_defs": false,
   "report_style_numbering": false,
   "user_envs_cfg": false
  }
 },
 "nbformat": 4,
 "nbformat_minor": 4
}
