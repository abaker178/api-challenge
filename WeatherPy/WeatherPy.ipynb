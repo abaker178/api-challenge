{
 "cells": [
  {
   "cell_type": "markdown",
   "metadata": {},
   "source": [
    "# WeatherPy\n",
    "----\n",
    "\n",
    "#### Note\n",
    "* Instructions have been included for each segment. You do not have to follow them exactly, but they are included to help you think through the steps."
   ]
  },
  {
   "cell_type": "code",
   "execution_count": 1,
   "metadata": {
    "scrolled": true
   },
   "outputs": [],
   "source": [
    "# Dependencies and Setup\n",
    "import matplotlib.pyplot as plt\n",
    "import pandas as pd\n",
    "import numpy as np\n",
    "import requests\n",
    "import time\n",
    "from time import gmtime,strftime\n",
    "from scipy.stats import linregress\n",
    "from pprint import pprint\n",
    "import os\n",
    "\n",
    "# Import API key\n",
    "from config import weather_key\n",
    "\n",
    "# Incorporated citipy to determine city based on latitude and longitude\n",
    "from citipy import citipy\n",
    "\n",
    "# Output Date (for csv and images)\n",
    "output_date = strftime(\"%m%d%Y\",gmtime())\n",
    "output_path = \"output/%s/\" % output_date\n",
    "\n",
    "# API variables\n",
    "query_url = \"http://api.openweathermap.org/data/2.5/weather?units=imperial&appid=%s&q=\" % weather_key\n",
    "\n",
    "# Range of latitudes and longitudes\n",
    "lat_range = (-90, 90)\n",
    "lng_range = (-180, 180)"
   ]
  },
  {
   "cell_type": "markdown",
   "metadata": {},
   "source": [
    "## Plot Generator Functions"
   ]
  },
  {
   "cell_type": "code",
   "execution_count": 30,
   "metadata": {},
   "outputs": [],
   "source": [
    "def buildLatPlot(y, ylabel, df, grid=False, title_prefix = \"\", linregress=False, save=False):\n",
    "    x_val = df[\"Lat\"]\n",
    "    y_val = df[y]\n",
    "    \n",
    "    # X limits\n",
    "    x_min = x_val.min()\n",
    "    x_max = x_val.max()\n",
    "    x_lim = getLimits(x_min, x_max, 10)\n",
    "    \n",
    "    # Y limits\n",
    "    y_min = y_val.min()\n",
    "    y_max = y_val.max()\n",
    "    y_lim = getLimits(y_min, y_max, 5)\n",
    "    \n",
    "    # Create title\n",
    "    date = strftime(\"%m/%d/%Y\",gmtime())\n",
    "    title = \"{0}City Latitude vs. {1}: {2}\".format(title_prefix,ylabel,date)\n",
    "    \n",
    "    # Create and show plot\n",
    "    lat_plt = df.plot(kind=\"scatter\", x=\"Lat\", y=y, grid=grid,\n",
    "                       edgecolor=\"black\", facecolor=\"blue\", alpha=.75,\n",
    "                       xlim=x_lim, ylim=y_lim, title=title)\n",
    "    xlabel = \"Latitude\"\n",
    "    lat_plt.set_xlabel(xlabel)\n",
    "    lat_plt.set_ylabel(ylabel)\n",
    "    lat_plt.axvline(0, color='black', linestyle='-', linewidth='3')\n",
    "    \n",
    "    # If desired, add the linear regression line and equation to the plot\n",
    "    if linregress is True:\n",
    "        x = {\n",
    "            \"values\": x_val,\n",
    "            \"min\": x_min,\n",
    "            \"max\": x_max\n",
    "        }\n",
    "        y = {\n",
    "            \"values\": y_val,\n",
    "            \"min\": y_min,\n",
    "            \"max\": y_max\n",
    "        }\n",
    "        addLinregress(x,y,lat_plt)\n",
    "    \n",
    "    # If desired, save the plot as a png in the output folder\n",
    "    if save is True:\n",
    "        output_ylabel = \" \".join(ylabel.split()[:-1])\n",
    "        #check if today already has a directory\n",
    "        if os.path.isdir(output_path) is False:\n",
    "            createNewDir(output_path)\n",
    "        lat_plt.figure.savefig(\"{0}{1}{2}-{3}.png\".format(output_path,title_prefix,xlabel,output_ylabel))"
   ]
  },
  {
   "cell_type": "code",
   "execution_count": 3,
   "metadata": {},
   "outputs": [],
   "source": [
    "# Gets the limits of the chart based on the minimum and maximum values\n",
    "# The landmark value is what to round to so no plot points are chopped off when the plot renders\n",
    "def getLimits(in_min, in_max, landmark):\n",
    "    # get minimum\n",
    "    if in_min <= 0:\n",
    "        out_min = in_min-(landmark-(abs(in_min)%landmark))\n",
    "    else:\n",
    "        out_min = in_min-(in_min%landmark)\n",
    "    # get maximum\n",
    "    if in_max >= 0:\n",
    "        out_max = in_max+(landmark-(in_max%landmark))\n",
    "    else:\n",
    "        out_max = in_max+(abs(in_max)%landmark)\n",
    "    return (out_min,out_max)"
   ]
  },
  {
   "cell_type": "code",
   "execution_count": 4,
   "metadata": {},
   "outputs": [],
   "source": [
    "# Add linear regression line and equation to the plot\n",
    "def addLinregress(x,y,lat_plt):\n",
    "    # get linear regression values and plot the line\n",
    "    slope, intercept, rvalue, pvalue, stderr = linregress(x[\"values\"], y[\"values\"])\n",
    "    lin_val = slope*x[\"values\"] + intercept\n",
    "    lat_plt.plot(x[\"values\"],lin_val,\"-\",color=\"red\")\n",
    "    \n",
    "    # create the equation string\n",
    "    lin_eq = \"y = {0}x + {1}\".format(round(slope,2),round(intercept,2))\n",
    "    \n",
    "    # create coordinates for linear regression equation based on slope to try and minimize collision the data\n",
    "    lin_x_buffer = (abs(.05*(x[\"min\"]+x[\"max\"])))\n",
    "    lin_x = x[\"min\"]+lin_x_buffer\n",
    "    \n",
    "    lin_y_buffer = (abs(.1*(y[\"min\"]+y[\"max\"])))\n",
    "    if slope > -1:\n",
    "        lin_y = y[\"max\"]-lin_y_buffer\n",
    "    else:\n",
    "        lin_y = y[\"min\"]+lin_y_buffer\n",
    "    \n",
    "    # add to existing plot\n",
    "    lat_plt.annotate(lin_eq,(lin_x, lin_y),fontsize=15,color=\"red\")\n",
    "    \n",
    "    # print r value\n",
    "    print(f\"The r-value is: {rvalue}\")"
   ]
  },
  {
   "cell_type": "code",
   "execution_count": 5,
   "metadata": {},
   "outputs": [],
   "source": [
    "# Create a date-specific folder\n",
    "def createNewDir(path):\n",
    "    try:\n",
    "        os.mkdir(path)\n",
    "    except OSError:\n",
    "        print (\"Failed to create directory for %s. Saving to output/\" % path)\n",
    "        output_path = \"output/\"\n",
    "    else:\n",
    "        print (\"Created directory for %s\" % path)"
   ]
  },
  {
   "cell_type": "markdown",
   "metadata": {},
   "source": [
    "## Generate Cities List"
   ]
  },
  {
   "cell_type": "code",
   "execution_count": 6,
   "metadata": {},
   "outputs": [
    {
     "data": {
      "text/plain": [
       "602"
      ]
     },
     "execution_count": 6,
     "metadata": {},
     "output_type": "execute_result"
    }
   ],
   "source": [
    "# List for holding lat_lngs and cities\n",
    "lat_lngs = []\n",
    "cities = []\n",
    "\n",
    "# Create a set of random lat and lng combinations\n",
    "lats = np.random.uniform(lat_range[0], lat_range[1], size=1500)\n",
    "lngs = np.random.uniform(lng_range[0], lng_range[1], size=1500)\n",
    "lat_lngs = zip(lats, lngs)\n",
    "\n",
    "# Identify nearest city for each lat, lng combination\n",
    "for lat_lng in lat_lngs:\n",
    "    city = citipy.nearest_city(lat_lng[0], lat_lng[1]).city_name\n",
    "    \n",
    "    # If the city is unique, then add it to a our cities list\n",
    "    if city not in cities:\n",
    "        cities.append(city)\n",
    "\n",
    "# Print the city count to confirm sufficient count\n",
    "len(cities)"
   ]
  },
  {
   "cell_type": "markdown",
   "metadata": {},
   "source": [
    "### Perform API Calls\n",
    "* Perform a weather check on each city using a series of successive API calls.\n",
    "* Include a print log of each city as it'sbeing processed (with the city number and city name).\n"
   ]
  },
  {
   "cell_type": "code",
   "execution_count": 7,
   "metadata": {
    "scrolled": true
   },
   "outputs": [
    {
     "name": "stdout",
     "output_type": "stream",
     "text": [
      "Beginning Data Retrieval\n",
      "------------------------\n",
      "City not found. Skipping...\n",
      "Processing Record 1 of Set 1 | Sungai Penuh\n",
      "City not found. Skipping...\n",
      "Processing Record 2 of Set 1 | Rome\n",
      "Processing Record 3 of Set 1 | Cairns\n",
      "Processing Record 4 of Set 1 | Kapaa\n",
      "Processing Record 5 of Set 1 | Rikitea\n",
      "Processing Record 6 of Set 1 | Chokurdakh\n",
      "Processing Record 7 of Set 1 | Ambilobe\n",
      "Processing Record 8 of Set 1 | Murray Bridge\n",
      "Processing Record 9 of Set 1 | Mataura\n",
      "Processing Record 10 of Set 1 | Pochutla\n",
      "Processing Record 11 of Set 1 | Lebu\n",
      "Processing Record 12 of Set 1 | Avarua\n",
      "Processing Record 13 of Set 1 | Palamós\n",
      "Processing Record 14 of Set 1 | Butaritari\n",
      "Processing Record 15 of Set 1 | Pevek\n",
      "Processing Record 16 of Set 1 | Vaini\n",
      "Processing Record 17 of Set 1 | Deputatsky\n",
      "Processing Record 18 of Set 1 | Longyearbyen\n",
      "Processing Record 19 of Set 1 | Qaanaaq\n",
      "Processing Record 20 of Set 1 | Port Elizabeth\n",
      "Processing Record 21 of Set 1 | Castro\n",
      "Processing Record 22 of Set 1 | Hilo\n",
      "Processing Record 23 of Set 1 | Kruisfontein\n",
      "Processing Record 24 of Set 1 | Juneau\n",
      "Processing Record 25 of Set 1 | New Norfolk\n",
      "Processing Record 26 of Set 1 | Barranco\n",
      "Processing Record 27 of Set 1 | Cape Town\n",
      "Processing Record 28 of Set 1 | Atuona\n",
      "Processing Record 29 of Set 1 | Raja\n",
      "Processing Record 30 of Set 1 | Meulaboh\n",
      "Processing Record 31 of Set 1 | Cherskiy\n",
      "Processing Record 32 of Set 1 | Sørland\n",
      "Processing Record 33 of Set 1 | Thompson\n",
      "City not found. Skipping...\n",
      "Processing Record 34 of Set 1 | Codajás\n",
      "Processing Record 35 of Set 1 | Bluff\n",
      "Processing Record 36 of Set 1 | Lavrentiya\n",
      "Processing Record 37 of Set 1 | Constitución\n",
      "City not found. Skipping...\n",
      "Processing Record 38 of Set 1 | Konakovo\n",
      "Processing Record 39 of Set 1 | Punta Arenas\n",
      "Processing Record 40 of Set 1 | Ushuaia\n",
      "Processing Record 41 of Set 1 | Ostrovnoy\n",
      "Processing Record 42 of Set 1 | Busselton\n",
      "Processing Record 43 of Set 1 | Quelimane\n",
      "City not found. Skipping...\n",
      "Processing Record 44 of Set 1 | Ilulissat\n",
      "Processing Record 45 of Set 1 | Mariehamn\n",
      "Processing Record 46 of Set 1 | Fortuna\n",
      "Processing Record 47 of Set 1 | Erzin\n",
      "Processing Record 48 of Set 1 | Puerto Lumbreras\n",
      "Processing Record 49 of Set 1 | George Town\n",
      "City not found. Skipping...\n",
      "Processing Record 50 of Set 1 | Tasiilaq\n",
      "Processing Record 1 of Set 2 | Chara\n",
      "Processing Record 2 of Set 2 | Zhalantun\n",
      "Processing Record 3 of Set 2 | Matagami\n",
      "Processing Record 4 of Set 2 | Carnarvon\n",
      "Processing Record 5 of Set 2 | Puerto del Rosario\n",
      "Processing Record 6 of Set 2 | Chui\n",
      "Processing Record 7 of Set 2 | Saint George\n",
      "Processing Record 8 of Set 2 | Lagoa\n",
      "Processing Record 9 of Set 2 | Provideniya\n",
      "City not found. Skipping...\n",
      "City not found. Skipping...\n",
      "Processing Record 10 of Set 2 | Bredasdorp\n",
      "Processing Record 11 of Set 2 | Puerto Nariño\n",
      "Processing Record 12 of Set 2 | Belfast\n",
      "Processing Record 13 of Set 2 | Stanislav\n",
      "Processing Record 14 of Set 2 | Vysokogornyy\n",
      "Processing Record 15 of Set 2 | Fort Nelson\n",
      "City not found. Skipping...\n",
      "Processing Record 16 of Set 2 | Cayenne\n",
      "Processing Record 17 of Set 2 | Fuerte Olimpo\n",
      "Processing Record 18 of Set 2 | Lompoc\n",
      "Processing Record 19 of Set 2 | Évreux\n",
      "Processing Record 20 of Set 2 | San Patricio\n",
      "City not found. Skipping...\n",
      "Processing Record 21 of Set 2 | Najrān\n",
      "Processing Record 22 of Set 2 | Port Macquarie\n",
      "Processing Record 23 of Set 2 | Ancud\n",
      "Processing Record 24 of Set 2 | Caucayá\n",
      "Processing Record 25 of Set 2 | Tuatapere\n",
      "Processing Record 26 of Set 2 | Dikson\n",
      "Processing Record 27 of Set 2 | Yellowknife\n",
      "Processing Record 28 of Set 2 | Te Anau\n",
      "Processing Record 29 of Set 2 | Puerto El Triunfo\n",
      "Processing Record 30 of Set 2 | Inhambane\n",
      "Processing Record 31 of Set 2 | Madang\n",
      "Processing Record 32 of Set 2 | Zhigansk\n",
      "Processing Record 33 of Set 2 | Tādepallegūdem\n",
      "Processing Record 34 of Set 2 | Carauari\n",
      "Processing Record 35 of Set 2 | Ihosy\n",
      "Processing Record 36 of Set 2 | Jadu\n",
      "Processing Record 37 of Set 2 | Hobart\n",
      "Processing Record 38 of Set 2 | Port Alfred\n",
      "Processing Record 39 of Set 2 | Norman Wells\n",
      "Processing Record 40 of Set 2 | Hermanus\n",
      "Processing Record 41 of Set 2 | Eureka\n",
      "Processing Record 42 of Set 2 | Barrow\n",
      "Processing Record 43 of Set 2 | Albany\n",
      "Processing Record 44 of Set 2 | Nome\n",
      "Processing Record 45 of Set 2 | Yar-Sale\n",
      "Processing Record 46 of Set 2 | Bethel\n",
      "Processing Record 47 of Set 2 | Tevaitoa\n",
      "Processing Record 48 of Set 2 | Helena\n",
      "Processing Record 49 of Set 2 | Manching\n",
      "Processing Record 50 of Set 2 | Saint Paul Harbor\n",
      "Processing Record 1 of Set 3 | Nikolskoye\n",
      "Processing Record 2 of Set 3 | Qingdao\n",
      "Processing Record 3 of Set 3 | Caravelas\n",
      "Processing Record 4 of Set 3 | Awjilah\n",
      "Processing Record 5 of Set 3 | Imbituba\n",
      "Processing Record 6 of Set 3 | Ingham\n",
      "Processing Record 7 of Set 3 | Port Keats\n",
      "Processing Record 8 of Set 3 | Motygino\n",
      "Processing Record 9 of Set 3 | Tuktoyaktuk\n",
      "Processing Record 10 of Set 3 | Guerrero Negro\n",
      "Processing Record 11 of Set 3 | Nyimba\n",
      "Processing Record 12 of Set 3 | Nioro\n",
      "Processing Record 13 of Set 3 | Florø\n",
      "City not found. Skipping...\n",
      "Processing Record 14 of Set 3 | Aksu\n",
      "Processing Record 15 of Set 3 | La Rioja\n",
      "Processing Record 16 of Set 3 | Khatanga\n",
      "Processing Record 17 of Set 3 | Conway\n",
      "Processing Record 18 of Set 3 | Grindavik\n",
      "Processing Record 19 of Set 3 | Dingle\n",
      "Processing Record 20 of Set 3 | Talnakh\n",
      "Processing Record 21 of Set 3 | Çumra\n",
      "Processing Record 22 of Set 3 | Kumul\n",
      "Processing Record 23 of Set 3 | Jamestown\n",
      "Processing Record 24 of Set 3 | Kilindoni\n",
      "Processing Record 25 of Set 3 | Yangi Marg`ilon\n",
      "Processing Record 26 of Set 3 | Berlevåg\n",
      "Processing Record 27 of Set 3 | Mossamedes\n",
      "Processing Record 28 of Set 3 | Nelson Bay\n",
      "Processing Record 29 of Set 3 | Hofn\n",
      "Processing Record 30 of Set 3 | Dārāb\n",
      "Processing Record 31 of Set 3 | La Ronge\n",
      "Processing Record 32 of Set 3 | Padang\n",
      "City not found. Skipping...\n",
      "City not found. Skipping...\n",
      "Processing Record 33 of Set 3 | Husavik\n",
      "Processing Record 34 of Set 3 | Biak\n",
      "Processing Record 35 of Set 3 | Ponta do Sol\n",
      "Processing Record 36 of Set 3 | Arraial do Cabo\n",
      "Processing Record 37 of Set 3 | Bathsheba\n",
      "Processing Record 38 of Set 3 | Alofi\n",
      "Processing Record 39 of Set 3 | Lixouri\n",
      "City not found. Skipping...\n",
      "City not found. Skipping...\n",
      "Processing Record 40 of Set 3 | Vanimo\n",
      "Processing Record 41 of Set 3 | Okhotsk\n",
      "Processing Record 42 of Set 3 | Severo-Kuril'sk\n",
      "Processing Record 43 of Set 3 | Torbay\n",
      "Processing Record 44 of Set 3 | Airai\n",
      "Processing Record 45 of Set 3 | Flinders\n",
      "Processing Record 46 of Set 3 | Atambua\n",
      "Processing Record 47 of Set 3 | Altamira\n",
      "Processing Record 48 of Set 3 | Hong Kong\n",
      "Processing Record 49 of Set 3 | Nabire\n",
      "Processing Record 50 of Set 3 | Cidreira\n",
      "Processing Record 1 of Set 4 | Maceió\n",
      "Processing Record 2 of Set 4 | Peniche\n",
      "Processing Record 3 of Set 4 | Esim\n",
      "Processing Record 4 of Set 4 | Álamos\n",
      "Processing Record 5 of Set 4 | Turbat\n",
      "City not found. Skipping...\n",
      "Processing Record 6 of Set 4 | Salalah\n",
      "Processing Record 7 of Set 4 | Mumford\n",
      "Processing Record 8 of Set 4 | Mar del Plata\n",
      "City not found. Skipping...\n",
      "Processing Record 9 of Set 4 | Bandiagara\n",
      "Processing Record 10 of Set 4 | Hämeenlinna\n",
      "Processing Record 11 of Set 4 | Maracaçumé\n",
      "Processing Record 12 of Set 4 | Kahului\n",
      "Processing Record 13 of Set 4 | Dehlorān\n",
      "Processing Record 14 of Set 4 | Coyhaique\n",
      "City not found. Skipping...\n",
      "Processing Record 15 of Set 4 | Pagudpud\n",
      "Processing Record 16 of Set 4 | Chicama\n",
      "Processing Record 17 of Set 4 | Codrington\n",
      "Processing Record 18 of Set 4 | Nchelenge\n",
      "City not found. Skipping...\n",
      "Processing Record 19 of Set 4 | San Andrés\n",
      "Processing Record 20 of Set 4 | Henties Bay\n",
      "Processing Record 21 of Set 4 | Tiksi\n",
      "Processing Record 22 of Set 4 | Pleasanton\n",
      "Processing Record 23 of Set 4 | Hithadhoo\n",
      "Processing Record 24 of Set 4 | Bengkulu\n",
      "City not found. Skipping...\n",
      "Processing Record 25 of Set 4 | Isla\n",
      "Processing Record 26 of Set 4 | Caniço\n",
      "Processing Record 27 of Set 4 | Saint-Philippe\n",
      "Processing Record 28 of Set 4 | Ilhabela\n",
      "Processing Record 29 of Set 4 | Saldanha\n",
      "Processing Record 30 of Set 4 | Ullapool\n",
      "City not found. Skipping...\n",
      "Processing Record 31 of Set 4 | Nemuro\n",
      "Processing Record 32 of Set 4 | Egvekinot\n",
      "City not found. Skipping...\n",
      "City not found. Skipping...\n",
      "Processing Record 33 of Set 4 | Preslav\n"
     ]
    },
    {
     "name": "stdout",
     "output_type": "stream",
     "text": [
      "Processing Record 34 of Set 4 | Tanout\n",
      "Processing Record 35 of Set 4 | Kabanjahe\n",
      "City not found. Skipping...\n",
      "Processing Record 36 of Set 4 | Abu Samrah\n",
      "Processing Record 37 of Set 4 | Vardø\n",
      "Processing Record 38 of Set 4 | Tagusao\n",
      "Processing Record 39 of Set 4 | Burnie\n",
      "Processing Record 40 of Set 4 | Saint-Pierre\n",
      "City not found. Skipping...\n",
      "Processing Record 41 of Set 4 | Kumluca\n",
      "Processing Record 42 of Set 4 | Homer\n",
      "Processing Record 43 of Set 4 | Kudat\n",
      "Processing Record 44 of Set 4 | Atar\n",
      "Processing Record 45 of Set 4 | Gamboma\n",
      "Processing Record 46 of Set 4 | Fort Saint James\n",
      "Processing Record 47 of Set 4 | Acapulco de Juárez\n",
      "City not found. Skipping...\n",
      "City not found. Skipping...\n",
      "Processing Record 48 of Set 4 | Laas\n",
      "Processing Record 49 of Set 4 | Esperance\n",
      "Processing Record 50 of Set 4 | Shirhatti\n",
      "City not found. Skipping...\n",
      "Processing Record 1 of Set 5 | Nouadhibou\n",
      "Processing Record 2 of Set 5 | Calamar\n",
      "Processing Record 3 of Set 5 | Channel-Port aux Basques\n",
      "Processing Record 4 of Set 5 | Nakusp\n",
      "Processing Record 5 of Set 5 | San Isidro\n",
      "Processing Record 6 of Set 5 | East London\n",
      "Processing Record 7 of Set 5 | Mastic Beach\n",
      "Processing Record 8 of Set 5 | Katobu\n",
      "Processing Record 9 of Set 5 | Naryan-Mar\n",
      "Processing Record 10 of Set 5 | Nsanje\n",
      "Processing Record 11 of Set 5 | Valley City\n",
      "Processing Record 12 of Set 5 | Sundsvall\n",
      "Processing Record 13 of Set 5 | Carlsbad\n",
      "Processing Record 14 of Set 5 | Pilot Butte\n",
      "Processing Record 15 of Set 5 | Port Hedland\n",
      "Processing Record 16 of Set 5 | Mehamn\n",
      "Processing Record 17 of Set 5 | Porto-Novo\n",
      "Processing Record 18 of Set 5 | Bambous Virieux\n",
      "Processing Record 19 of Set 5 | Ranong\n",
      "City not found. Skipping...\n",
      "Processing Record 20 of Set 5 | Puerto Ayora\n",
      "Processing Record 21 of Set 5 | Skoropuskovskiy\n",
      "Processing Record 22 of Set 5 | Qasigiannguit\n",
      "City not found. Skipping...\n",
      "Processing Record 23 of Set 5 | Tsimmerbude\n",
      "Processing Record 24 of Set 5 | Yumen\n",
      "Processing Record 25 of Set 5 | Redditch\n",
      "Processing Record 26 of Set 5 | Kavaratti\n",
      "Processing Record 27 of Set 5 | Tautira\n",
      "Processing Record 28 of Set 5 | Totness\n",
      "Processing Record 29 of Set 5 | Port Augusta\n",
      "Processing Record 30 of Set 5 | Dicabisagan\n",
      "Processing Record 31 of Set 5 | Jiazi\n",
      "Processing Record 32 of Set 5 | Lake City\n",
      "Processing Record 33 of Set 5 | Potsdam\n",
      "Processing Record 34 of Set 5 | Gushikawa\n",
      "City not found. Skipping...\n",
      "Processing Record 35 of Set 5 | Lorengau\n",
      "City not found. Skipping...\n",
      "Processing Record 36 of Set 5 | Klaksvík\n",
      "Processing Record 37 of Set 5 | Arica\n",
      "Processing Record 38 of Set 5 | Necochea\n",
      "Processing Record 39 of Set 5 | Erenhot\n",
      "Processing Record 40 of Set 5 | Thinadhoo\n",
      "Processing Record 41 of Set 5 | Lázaro Cárdenas\n",
      "Processing Record 42 of Set 5 | Kanigoro\n",
      "Processing Record 43 of Set 5 | Butte\n",
      "Processing Record 44 of Set 5 | Dengzhou\n",
      "Processing Record 45 of Set 5 | Souillac\n",
      "Processing Record 46 of Set 5 | Mount Gambier\n",
      "Processing Record 47 of Set 5 | Acaraú\n",
      "Processing Record 48 of Set 5 | Sagua la Grande\n",
      "Processing Record 49 of Set 5 | Artyom\n",
      "Processing Record 50 of Set 5 | Bhisho\n",
      "Processing Record 1 of Set 6 | Pangnirtung\n",
      "Processing Record 2 of Set 6 | Upernavik\n",
      "Processing Record 3 of Set 6 | High Level\n",
      "Processing Record 4 of Set 6 | San Miguel de Tucumán\n",
      "Processing Record 5 of Set 6 | Fairbanks\n",
      "Processing Record 6 of Set 6 | Terrace Bay\n",
      "Processing Record 7 of Set 6 | Samarkand\n",
      "Processing Record 8 of Set 6 | Huarmey\n",
      "Processing Record 9 of Set 6 | Sakakah\n",
      "City not found. Skipping...\n",
      "Processing Record 10 of Set 6 | Santa Maria\n",
      "City not found. Skipping...\n",
      "Processing Record 11 of Set 6 | Lugo\n",
      "Processing Record 12 of Set 6 | Iqaluit\n",
      "Processing Record 13 of Set 6 | Freeport\n",
      "Processing Record 14 of Set 6 | Skjervøy\n",
      "Processing Record 15 of Set 6 | Laurinburg\n",
      "Processing Record 16 of Set 6 | Mana\n",
      "Processing Record 17 of Set 6 | Uni\n",
      "Processing Record 18 of Set 6 | Katherine\n",
      "Processing Record 19 of Set 6 | Mahébourg\n",
      "Processing Record 20 of Set 6 | Neiafu\n",
      "Processing Record 21 of Set 6 | Lüderitz\n",
      "City not found. Skipping...\n",
      "Processing Record 22 of Set 6 | Gonbad-e Kāvūs\n",
      "Processing Record 23 of Set 6 | Coquimbo\n",
      "Processing Record 24 of Set 6 | Sayula\n",
      "Processing Record 25 of Set 6 | Hojāi\n",
      "Processing Record 26 of Set 6 | Haines Junction\n",
      "Processing Record 27 of Set 6 | Itarema\n",
      "Processing Record 28 of Set 6 | Kikwit\n",
      "Processing Record 29 of Set 6 | Srednekolymsk\n",
      "Processing Record 30 of Set 6 | Lara\n",
      "Processing Record 31 of Set 6 | Batticaloa\n",
      "Processing Record 32 of Set 6 | Gawler\n",
      "Processing Record 33 of Set 6 | Ribeira Grande\n",
      "Processing Record 34 of Set 6 | Ayan\n",
      "Processing Record 35 of Set 6 | Havre-St-Pierre\n",
      "Processing Record 36 of Set 6 | Hīt\n",
      "Processing Record 37 of Set 6 | Mongu\n",
      "Processing Record 38 of Set 6 | Presidencia Roque Sáenz Peña\n",
      "Processing Record 39 of Set 6 | Los Llanos de Aridane\n",
      "Processing Record 40 of Set 6 | Honiara\n",
      "Processing Record 41 of Set 6 | Mareeba\n",
      "Processing Record 42 of Set 6 | Narsaq\n",
      "City not found. Skipping...\n",
      "Processing Record 43 of Set 6 | General Higinio Morínigo\n",
      "Processing Record 44 of Set 6 | Grand Baie\n",
      "Processing Record 45 of Set 6 | Wattegama\n",
      "Processing Record 46 of Set 6 | Lata\n",
      "Processing Record 47 of Set 6 | Macaé\n",
      "Processing Record 48 of Set 6 | Christchurch\n",
      "Processing Record 49 of Set 6 | Ampanihy\n",
      "Processing Record 50 of Set 6 | Leshukonskoye\n",
      "Processing Record 1 of Set 7 | Kaitangata\n",
      "Processing Record 2 of Set 7 | Hobyo\n",
      "Processing Record 3 of Set 7 | Nyurba\n",
      "Processing Record 4 of Set 7 | Petropavlovsk-Kamchatskiy\n",
      "City not found. Skipping...\n",
      "Processing Record 5 of Set 7 | Wanning\n",
      "Processing Record 6 of Set 7 | Leningradskiy\n",
      "Processing Record 7 of Set 7 | Aripuanã\n",
      "Processing Record 8 of Set 7 | Billings Metropolitan Area\n",
      "Processing Record 9 of Set 7 | Mount Isa\n",
      "Processing Record 10 of Set 7 | Sikonge\n",
      "Processing Record 11 of Set 7 | Paranaíba\n",
      "Processing Record 12 of Set 7 | Lodja\n",
      "Processing Record 13 of Set 7 | Severnoye\n",
      "Processing Record 14 of Set 7 | Vestmannaeyjar\n",
      "Processing Record 15 of Set 7 | Fukuechō\n",
      "Processing Record 16 of Set 7 | College Station\n",
      "Processing Record 17 of Set 7 | Cabo San Lucas\n",
      "Processing Record 18 of Set 7 | Touba\n",
      "Processing Record 19 of Set 7 | Benguela\n",
      "City not found. Skipping...\n",
      "City not found. Skipping...\n",
      "Processing Record 20 of Set 7 | Eirunepé\n",
      "Processing Record 21 of Set 7 | El Alto\n",
      "Processing Record 22 of Set 7 | Illertissen\n",
      "Processing Record 23 of Set 7 | Niterói\n",
      "Processing Record 24 of Set 7 | Katsuura\n",
      "Processing Record 25 of Set 7 | Jaltenango\n",
      "City not found. Skipping...\n",
      "Processing Record 26 of Set 7 | Port Lincoln\n",
      "Processing Record 27 of Set 7 | Rocha\n",
      "Processing Record 28 of Set 7 | Mayna\n",
      "Processing Record 29 of Set 7 | Norden\n",
      "Processing Record 30 of Set 7 | Camacha\n",
      "Processing Record 31 of Set 7 | Córdoba\n",
      "Processing Record 32 of Set 7 | Isiro\n",
      "Processing Record 33 of Set 7 | Faya\n",
      "Processing Record 34 of Set 7 | Kautokeino\n",
      "Processing Record 35 of Set 7 | Darnah\n",
      "Processing Record 36 of Set 7 | Poum\n",
      "Processing Record 37 of Set 7 | Okha\n",
      "Processing Record 38 of Set 7 | Puerto Baquerizo Moreno\n",
      "Processing Record 39 of Set 7 | Petauke\n",
      "Processing Record 40 of Set 7 | Laguna\n",
      "Processing Record 41 of Set 7 | Alausí\n",
      "Processing Record 42 of Set 7 | Karaton\n",
      "Processing Record 43 of Set 7 | Saskylakh\n",
      "Processing Record 44 of Set 7 | Santa Cruz de Barahona\n",
      "Processing Record 45 of Set 7 | Kununurra\n",
      "Processing Record 46 of Set 7 | Ankazoabo\n",
      "Processing Record 47 of Set 7 | Olafsvik\n",
      "Processing Record 48 of Set 7 | Oodweyne\n",
      "Processing Record 49 of Set 7 | Udachny\n",
      "Processing Record 50 of Set 7 | Tarsus\n",
      "Processing Record 1 of Set 8 | Hasaki\n",
      "Processing Record 2 of Set 8 | Kosjerić\n",
      "Processing Record 3 of Set 8 | Innisfail\n",
      "City not found. Skipping...\n",
      "City not found. Skipping...\n",
      "Processing Record 4 of Set 8 | Marabá\n",
      "Processing Record 5 of Set 8 | Tuy Hoa\n",
      "Processing Record 6 of Set 8 | North Bend\n",
      "Processing Record 7 of Set 8 | Novy Urengoy\n",
      "Processing Record 8 of Set 8 | Ribas do Rio Pardo\n",
      "Processing Record 9 of Set 8 | Richards Bay\n",
      "Processing Record 10 of Set 8 | Kieta\n",
      "Processing Record 11 of Set 8 | Batemans Bay\n",
      "Processing Record 12 of Set 8 | Krasnosel'kup\n",
      "Processing Record 13 of Set 8 | Paamiut\n",
      "Processing Record 14 of Set 8 | Lumut\n",
      "Processing Record 15 of Set 8 | San Ramon\n",
      "Processing Record 16 of Set 8 | Kraśnik\n"
     ]
    },
    {
     "name": "stdout",
     "output_type": "stream",
     "text": [
      "City not found. Skipping...\n",
      "Processing Record 17 of Set 8 | Vestmanna\n",
      "Processing Record 18 of Set 8 | Tignère\n",
      "Processing Record 19 of Set 8 | Gainesville\n",
      "Processing Record 20 of Set 8 | Passa Quatro\n",
      "Processing Record 21 of Set 8 | Belmonte\n",
      "Processing Record 22 of Set 8 | Ulety\n",
      "Processing Record 23 of Set 8 | Matara\n",
      "City not found. Skipping...\n",
      "Processing Record 24 of Set 8 | Port Hawkesbury\n",
      "Processing Record 25 of Set 8 | Kysyl-Syr\n",
      "Processing Record 26 of Set 8 | Ambulu\n",
      "City not found. Skipping...\n",
      "Processing Record 27 of Set 8 | Bilibino\n",
      "Processing Record 28 of Set 8 | Warrnambool\n",
      "Processing Record 29 of Set 8 | Nauta\n",
      "Processing Record 30 of Set 8 | Ixtapa\n",
      "Processing Record 31 of Set 8 | Ust'-Kut\n",
      "City not found. Skipping...\n",
      "Processing Record 32 of Set 8 | Aksarka\n",
      "Processing Record 33 of Set 8 | Chopinzinho\n",
      "Processing Record 34 of Set 8 | Salamiyah\n",
      "Processing Record 35 of Set 8 | Maniitsoq\n",
      "Processing Record 36 of Set 8 | Simao\n",
      "Processing Record 37 of Set 8 | Barra do Garças\n",
      "Processing Record 38 of Set 8 | Dumas\n",
      "Processing Record 39 of Set 8 | Nanortalik\n",
      "Processing Record 40 of Set 8 | Olinda\n",
      "City not found. Skipping...\n",
      "Processing Record 41 of Set 8 | Ballina\n",
      "Processing Record 42 of Set 8 | Kyren\n",
      "Processing Record 43 of Set 8 | Berdigestyakh\n",
      "Processing Record 44 of Set 8 | Brae\n",
      "Processing Record 45 of Set 8 | Port-Gentil\n",
      "Processing Record 46 of Set 8 | Anloga\n",
      "Processing Record 47 of Set 8 | Rio Grande\n",
      "Processing Record 48 of Set 8 | Kentau\n",
      "Processing Record 49 of Set 8 | Graaff-Reinet\n",
      "Processing Record 50 of Set 8 | Ereymentau\n",
      "Processing Record 1 of Set 9 | Khani\n",
      "Processing Record 2 of Set 9 | Touros\n",
      "Processing Record 3 of Set 9 | San Joaquin\n",
      "Processing Record 4 of Set 9 | Boa Vista\n",
      "Processing Record 5 of Set 9 | Dunedin\n",
      "Processing Record 6 of Set 9 | Jumla\n",
      "Processing Record 7 of Set 9 | Aklavik\n",
      "City not found. Skipping...\n",
      "Processing Record 8 of Set 9 | Iroquois Falls\n",
      "Processing Record 9 of Set 9 | Khasan\n",
      "Processing Record 10 of Set 9 | Mosquera\n",
      "Processing Record 11 of Set 9 | Gijang\n",
      "Processing Record 12 of Set 9 | Finnsnes\n",
      "Processing Record 13 of Set 9 | Araouane\n",
      "Processing Record 14 of Set 9 | San Policarpo\n",
      "Processing Record 15 of Set 9 | Tombouctou\n",
      "Processing Record 16 of Set 9 | Buala\n",
      "Processing Record 17 of Set 9 | Uyuni\n",
      "Processing Record 18 of Set 9 | San Quintín\n",
      "Processing Record 19 of Set 9 | Andenes\n",
      "Processing Record 20 of Set 9 | Khovd\n",
      "Processing Record 21 of Set 9 | Port Hardy\n",
      "Processing Record 22 of Set 9 | Faanui\n",
      "Processing Record 23 of Set 9 | Thabazimbi\n",
      "Processing Record 24 of Set 9 | Griffith\n",
      "Processing Record 25 of Set 9 | Durango\n",
      "Processing Record 26 of Set 9 | Borogontsy\n",
      "Processing Record 27 of Set 9 | Aloleng\n",
      "Processing Record 28 of Set 9 | Mitú\n",
      "Processing Record 29 of Set 9 | Calama\n",
      "Processing Record 30 of Set 9 | Santo André\n",
      "Processing Record 31 of Set 9 | Hamilton\n",
      "Processing Record 32 of Set 9 | Havelock\n",
      "Processing Record 33 of Set 9 | Kalmunai\n",
      "Processing Record 34 of Set 9 | Bariloche\n",
      "Processing Record 35 of Set 9 | Olonets\n",
      "Processing Record 36 of Set 9 | Hirara\n",
      "Processing Record 37 of Set 9 | Kidal\n",
      "Processing Record 38 of Set 9 | Morón\n",
      "Processing Record 39 of Set 9 | West Plains\n",
      "Processing Record 40 of Set 9 | Conceição do Araguaia\n",
      "Processing Record 41 of Set 9 | El Peñón\n",
      "City not found. Skipping...\n",
      "Processing Record 42 of Set 9 | Sitka\n",
      "Processing Record 43 of Set 9 | Kantang\n",
      "Processing Record 44 of Set 9 | Sydney\n",
      "City not found. Skipping...\n",
      "Processing Record 45 of Set 9 | La Santisima Trinidad\n",
      "Processing Record 46 of Set 9 | Zaysan\n",
      "Processing Record 47 of Set 9 | Zhigalovo\n",
      "Processing Record 48 of Set 9 | Shenavan\n",
      "Processing Record 49 of Set 9 | Pathein\n",
      "City not found. Skipping...\n",
      "Processing Record 50 of Set 9 | Ambovombe\n",
      "Processing Record 1 of Set 10 | Namatanai\n",
      "Processing Record 2 of Set 10 | Fengcheng\n",
      "City not found. Skipping...\n",
      "Processing Record 3 of Set 10 | Chernyshevskiy\n",
      "Processing Record 4 of Set 10 | Saint Anthony\n",
      "Processing Record 5 of Set 10 | Maţāy\n",
      "Processing Record 6 of Set 10 | Yulara\n",
      "Processing Record 7 of Set 10 | Kinango\n",
      "Processing Record 8 of Set 10 | Samarai\n",
      "Processing Record 9 of Set 10 | Inndyr\n",
      "Processing Record 10 of Set 10 | Adrar\n",
      "Processing Record 11 of Set 10 | Majene\n",
      "Processing Record 12 of Set 10 | Sangar\n",
      "Processing Record 13 of Set 10 | Ternate\n",
      "Processing Record 14 of Set 10 | Bontang\n",
      "Processing Record 15 of Set 10 | Geraldton\n",
      "City not found. Skipping...\n",
      "Processing Record 16 of Set 10 | Yārāda\n",
      "Processing Record 17 of Set 10 | Broken Hill\n",
      "Processing Record 18 of Set 10 | Letka\n",
      "Processing Record 19 of Set 10 | Wolgast\n",
      "Processing Record 20 of Set 10 | Muhafazat Lahij\n",
      "Processing Record 21 of Set 10 | Tooele\n",
      "Processing Record 22 of Set 10 | Gobabis\n",
      "Processing Record 23 of Set 10 | Bubaque\n",
      "Processing Record 24 of Set 10 | Orangeville\n",
      "Processing Record 25 of Set 10 | Atherton\n",
      "Processing Record 26 of Set 10 | Ust-Kuyga\n",
      "Processing Record 27 of Set 10 | Naze\n",
      "Processing Record 28 of Set 10 | Abhā\n",
      "Processing Record 29 of Set 10 | Bud\n",
      "Processing Record 30 of Set 10 | Makakilo City\n",
      "Processing Record 31 of Set 10 | Chumikan\n",
      "Processing Record 32 of Set 10 | Aktobe\n",
      "Processing Record 33 of Set 10 | Buckeye\n",
      "Processing Record 34 of Set 10 | Sarankhola\n",
      "Processing Record 35 of Set 10 | Corralillo\n",
      "Processing Record 36 of Set 10 | Russell\n",
      "Processing Record 37 of Set 10 | Shingū\n",
      "Processing Record 38 of Set 10 | Puerto Maldonado\n",
      "Processing Record 39 of Set 10 | Yamada\n",
      "Processing Record 40 of Set 10 | Ketchikan\n",
      "Processing Record 41 of Set 10 | Isangel\n",
      "Processing Record 42 of Set 10 | Kushmurun\n",
      "Processing Record 43 of Set 10 | Poltavka\n",
      "Processing Record 44 of Set 10 | Merauke\n",
      "City not found. Skipping...\n",
      "Processing Record 45 of Set 10 | Nikolayevsk-on-Amur\n",
      "Processing Record 46 of Set 10 | Kavieng\n",
      "Processing Record 47 of Set 10 | Toora-Khem\n",
      "Processing Record 48 of Set 10 | Margate\n",
      "Processing Record 49 of Set 10 | Ubatuba\n",
      "Processing Record 50 of Set 10 | Kalāleh\n",
      "Processing Record 1 of Set 11 | St-Jean-Port-Joli\n",
      "Processing Record 2 of Set 11 | Verkhnyaya Sinyachikha\n",
      "Processing Record 3 of Set 11 | Shelburne\n",
      "Processing Record 4 of Set 11 | Mazagão\n",
      "Processing Record 5 of Set 11 | Don Luan\n",
      "Processing Record 6 of Set 11 | Lañgub\n",
      "Processing Record 7 of Set 11 | Kargil\n",
      "Processing Record 8 of Set 11 | Ukiah\n",
      "Processing Record 9 of Set 11 | Camopi\n",
      "Processing Record 10 of Set 11 | Biograd na Moru\n",
      "Processing Record 11 of Set 11 | Muscat\n",
      "City not found. Skipping...\n",
      "Processing Record 12 of Set 11 | Anqiu\n",
      "Processing Record 13 of Set 11 | Jagdalpur\n",
      "Processing Record 14 of Set 11 | Arrifes\n",
      "Processing Record 15 of Set 11 | Umluj\n",
      "Processing Record 16 of Set 11 | Carutapera\n",
      "Processing Record 17 of Set 11 | Trairi\n",
      "Processing Record 18 of Set 11 | Hirado\n",
      "Processing Record 19 of Set 11 | Tateyama\n",
      "Processing Record 20 of Set 11 | Arrondissement de Montbrison\n",
      "Processing Record 21 of Set 11 | Roald\n",
      "Processing Record 22 of Set 11 | Tura\n",
      "Processing Record 23 of Set 11 | Vila Franca do Campo\n",
      "Processing Record 24 of Set 11 | Aykhal\n",
      "Processing Record 25 of Set 11 | Tazovsky\n",
      "Processing Record 26 of Set 11 | Ous\n",
      "Processing Record 27 of Set 11 | Sārangarh\n",
      "Processing Record 28 of Set 11 | Paris\n",
      "Processing Record 29 of Set 11 | Beringovskiy\n",
      "Processing Record 30 of Set 11 | Carballo\n",
      "Processing Record 31 of Set 11 | Colac\n",
      "Processing Record 32 of Set 11 | Kołobrzeg\n",
      "Processing Record 33 of Set 11 | Punta Alta\n",
      "Processing Record 34 of Set 11 | Longido\n",
      "Processing Record 35 of Set 11 | Oga\n",
      "Processing Record 36 of Set 11 | Phimai\n",
      "City not found. Skipping...\n",
      "Processing Record 37 of Set 11 | Arman'\n",
      "Processing Record 38 of Set 11 | Benjamín Aceval\n",
      "Processing Record 39 of Set 11 | Nizhneudinsk\n",
      "Processing Record 40 of Set 11 | São Filipe\n",
      "Processing Record 41 of Set 11 | Hambantota\n",
      "Processing Record 42 of Set 11 | Byron Bay\n",
      "Processing Record 43 of Set 11 | Tromsø\n",
      "Processing Record 44 of Set 11 | São Gabriel da Cachoeira\n",
      "Processing Record 45 of Set 11 | Nipawin\n",
      "Processing Record 46 of Set 11 | Clyde River\n"
     ]
    }
   ],
   "source": [
    "# Print title and divider\n",
    "print_title = \"Beginning Data Retrieval\"\n",
    "print(print_title)\n",
    "print(len(print_title)*\"-\")\n",
    "\n",
    "# Request weather data from every city in list\n",
    "# Instantiate counters and city list\n",
    "record = 1\n",
    "rec_set = 1\n",
    "city_list = []\n",
    "\n",
    "# Loop through the cities and store the api response\n",
    "for city in cities:\n",
    "    response = requests.get(query_url + city).json()\n",
    "    # if the response doesn't have a name, skip adding it to the city list and do not increment\n",
    "    try:\n",
    "        print(f\"Processing Record {record} of Set {rec_set} | {response['name']}\")\n",
    "    except KeyError:\n",
    "        print(\"City not found. Skipping...\")\n",
    "    else:\n",
    "        city_list.append(response)\n",
    "        if record == 50:\n",
    "            record = 1\n",
    "            rec_set += 1\n",
    "        else:\n",
    "            record += 1\n",
    "    # Lastly, wait a second before making another call\n",
    "    finally:\n",
    "        time.sleep(1)"
   ]
  },
  {
   "cell_type": "markdown",
   "metadata": {},
   "source": [
    "### Convert Raw Data to DataFrame\n",
    "* Export the city data into a .csv.\n",
    "* Display the DataFrame"
   ]
  },
  {
   "cell_type": "code",
   "execution_count": 8,
   "metadata": {},
   "outputs": [
    {
     "name": "stdout",
     "output_type": "stream",
     "text": [
      "Created directory for output/01042021/\n"
     ]
    },
    {
     "data": {
      "text/html": [
       "<div>\n",
       "<style scoped>\n",
       "    .dataframe tbody tr th:only-of-type {\n",
       "        vertical-align: middle;\n",
       "    }\n",
       "\n",
       "    .dataframe tbody tr th {\n",
       "        vertical-align: top;\n",
       "    }\n",
       "\n",
       "    .dataframe thead th {\n",
       "        text-align: right;\n",
       "    }\n",
       "</style>\n",
       "<table border=\"1\" class=\"dataframe\">\n",
       "  <thead>\n",
       "    <tr style=\"text-align: right;\">\n",
       "      <th></th>\n",
       "      <th>City</th>\n",
       "      <th>Lat</th>\n",
       "      <th>Lng</th>\n",
       "      <th>Max Temp</th>\n",
       "      <th>Humidity</th>\n",
       "      <th>Cloudiness</th>\n",
       "      <th>Wind Speed</th>\n",
       "      <th>Country</th>\n",
       "      <th>Date</th>\n",
       "    </tr>\n",
       "  </thead>\n",
       "  <tbody>\n",
       "    <tr>\n",
       "      <th>0</th>\n",
       "      <td>Sungai Penuh</td>\n",
       "      <td>-2.08</td>\n",
       "      <td>101.38</td>\n",
       "      <td>67.80</td>\n",
       "      <td>90</td>\n",
       "      <td>91</td>\n",
       "      <td>3.24</td>\n",
       "      <td>ID</td>\n",
       "      <td>1609773157</td>\n",
       "    </tr>\n",
       "    <tr>\n",
       "      <th>1</th>\n",
       "      <td>Rome</td>\n",
       "      <td>43.21</td>\n",
       "      <td>-75.46</td>\n",
       "      <td>33.80</td>\n",
       "      <td>86</td>\n",
       "      <td>90</td>\n",
       "      <td>1.83</td>\n",
       "      <td>US</td>\n",
       "      <td>1609773102</td>\n",
       "    </tr>\n",
       "    <tr>\n",
       "      <th>2</th>\n",
       "      <td>Cairns</td>\n",
       "      <td>-16.92</td>\n",
       "      <td>145.77</td>\n",
       "      <td>78.80</td>\n",
       "      <td>94</td>\n",
       "      <td>75</td>\n",
       "      <td>3.36</td>\n",
       "      <td>AU</td>\n",
       "      <td>1609773033</td>\n",
       "    </tr>\n",
       "    <tr>\n",
       "      <th>3</th>\n",
       "      <td>Kapaa</td>\n",
       "      <td>22.08</td>\n",
       "      <td>-159.32</td>\n",
       "      <td>73.40</td>\n",
       "      <td>78</td>\n",
       "      <td>75</td>\n",
       "      <td>10.29</td>\n",
       "      <td>US</td>\n",
       "      <td>1609773161</td>\n",
       "    </tr>\n",
       "    <tr>\n",
       "      <th>4</th>\n",
       "      <td>Rikitea</td>\n",
       "      <td>-23.12</td>\n",
       "      <td>-134.97</td>\n",
       "      <td>77.14</td>\n",
       "      <td>81</td>\n",
       "      <td>17</td>\n",
       "      <td>15.55</td>\n",
       "      <td>PF</td>\n",
       "      <td>1609773162</td>\n",
       "    </tr>\n",
       "  </tbody>\n",
       "</table>\n",
       "</div>"
      ],
      "text/plain": [
       "           City    Lat     Lng  Max Temp  Humidity  Cloudiness  Wind Speed  \\\n",
       "0  Sungai Penuh  -2.08  101.38     67.80        90          91        3.24   \n",
       "1          Rome  43.21  -75.46     33.80        86          90        1.83   \n",
       "2        Cairns -16.92  145.77     78.80        94          75        3.36   \n",
       "3         Kapaa  22.08 -159.32     73.40        78          75       10.29   \n",
       "4       Rikitea -23.12 -134.97     77.14        81          17       15.55   \n",
       "\n",
       "  Country        Date  \n",
       "0      ID  1609773157  \n",
       "1      US  1609773102  \n",
       "2      AU  1609773033  \n",
       "3      US  1609773161  \n",
       "4      PF  1609773162  "
      ]
     },
     "execution_count": 8,
     "metadata": {},
     "output_type": "execute_result"
    }
   ],
   "source": [
    "# Create empty dictionary to add api data to\n",
    "cities_df = {}\n",
    "\n",
    "# Add City, Lat, Long, Max Temp, Humidity, Cloudiness, Wind Speed, Country, and Date\n",
    "# Create empty lists for each soon-to-be column\n",
    "cities_df[\"City\"], cities_df[\"Lat\"], cities_df[\"Lng\"], cities_df[\"Max Temp\"], cities_df[\"Humidity\"], cities_df[\"Cloudiness\"], cities_df[\"Wind Speed\"], cities_df[\"Country\"], cities_df[\"Date\"] = ([] for x in range(9))\n",
    "for i in range(len(city_list)):\n",
    "    cities_df[\"City\"].append(city_list[i][\"name\"])\n",
    "    cities_df[\"Lat\"].append(city_list[i][\"coord\"][\"lat\"])\n",
    "    cities_df[\"Lng\"].append(city_list[i][\"coord\"][\"lon\"])\n",
    "    cities_df[\"Max Temp\"].append(city_list[i][\"main\"][\"temp_max\"])\n",
    "    cities_df[\"Humidity\"].append(city_list[i][\"main\"][\"humidity\"])\n",
    "    cities_df[\"Cloudiness\"].append(city_list[i][\"clouds\"][\"all\"])\n",
    "    cities_df[\"Wind Speed\"].append(city_list[i][\"wind\"][\"speed\"])\n",
    "    cities_df[\"Country\"].append(city_list[i][\"sys\"][\"country\"])\n",
    "    cities_df[\"Date\"].append(city_list[i][\"dt\"])\n",
    "cities_df = pd.DataFrame(cities_df)\n",
    "if os.path.isdir(output_path) is False:\n",
    "    createNewDir(output_path)\n",
    "cities_df.to_csv(\"%scities.csv\" % output_path)\n",
    "cities_df.head()"
   ]
  },
  {
   "cell_type": "code",
   "execution_count": 9,
   "metadata": {},
   "outputs": [
    {
     "data": {
      "text/html": [
       "<div>\n",
       "<style scoped>\n",
       "    .dataframe tbody tr th:only-of-type {\n",
       "        vertical-align: middle;\n",
       "    }\n",
       "\n",
       "    .dataframe tbody tr th {\n",
       "        vertical-align: top;\n",
       "    }\n",
       "\n",
       "    .dataframe thead th {\n",
       "        text-align: right;\n",
       "    }\n",
       "</style>\n",
       "<table border=\"1\" class=\"dataframe\">\n",
       "  <thead>\n",
       "    <tr style=\"text-align: right;\">\n",
       "      <th></th>\n",
       "      <th>Lat</th>\n",
       "      <th>Lng</th>\n",
       "      <th>Max Temp</th>\n",
       "      <th>Humidity</th>\n",
       "      <th>Cloudiness</th>\n",
       "      <th>Wind Speed</th>\n",
       "      <th>Date</th>\n",
       "    </tr>\n",
       "  </thead>\n",
       "  <tbody>\n",
       "    <tr>\n",
       "      <th>count</th>\n",
       "      <td>546.000000</td>\n",
       "      <td>546.000000</td>\n",
       "      <td>546.000000</td>\n",
       "      <td>546.000000</td>\n",
       "      <td>546.000000</td>\n",
       "      <td>546.000000</td>\n",
       "      <td>5.460000e+02</td>\n",
       "    </tr>\n",
       "    <tr>\n",
       "      <th>mean</th>\n",
       "      <td>19.543974</td>\n",
       "      <td>16.134322</td>\n",
       "      <td>51.171245</td>\n",
       "      <td>74.732601</td>\n",
       "      <td>57.454212</td>\n",
       "      <td>8.535495</td>\n",
       "      <td>1.609773e+09</td>\n",
       "    </tr>\n",
       "    <tr>\n",
       "      <th>std</th>\n",
       "      <td>34.292894</td>\n",
       "      <td>91.882241</td>\n",
       "      <td>33.626850</td>\n",
       "      <td>18.698229</td>\n",
       "      <td>38.302546</td>\n",
       "      <td>5.860271</td>\n",
       "      <td>2.057868e+02</td>\n",
       "    </tr>\n",
       "    <tr>\n",
       "      <th>min</th>\n",
       "      <td>-54.800000</td>\n",
       "      <td>-179.170000</td>\n",
       "      <td>-49.650000</td>\n",
       "      <td>10.000000</td>\n",
       "      <td>0.000000</td>\n",
       "      <td>0.580000</td>\n",
       "      <td>1.609773e+09</td>\n",
       "    </tr>\n",
       "    <tr>\n",
       "      <th>25%</th>\n",
       "      <td>-8.815000</td>\n",
       "      <td>-62.067500</td>\n",
       "      <td>32.000000</td>\n",
       "      <td>65.250000</td>\n",
       "      <td>20.000000</td>\n",
       "      <td>4.540000</td>\n",
       "      <td>1.609773e+09</td>\n",
       "    </tr>\n",
       "    <tr>\n",
       "      <th>50%</th>\n",
       "      <td>22.300000</td>\n",
       "      <td>19.100000</td>\n",
       "      <td>60.800000</td>\n",
       "      <td>79.000000</td>\n",
       "      <td>75.000000</td>\n",
       "      <td>6.930000</td>\n",
       "      <td>1.609773e+09</td>\n",
       "    </tr>\n",
       "    <tr>\n",
       "      <th>75%</th>\n",
       "      <td>48.977500</td>\n",
       "      <td>100.560000</td>\n",
       "      <td>78.800000</td>\n",
       "      <td>87.750000</td>\n",
       "      <td>91.000000</td>\n",
       "      <td>11.410000</td>\n",
       "      <td>1.609774e+09</td>\n",
       "    </tr>\n",
       "    <tr>\n",
       "      <th>max</th>\n",
       "      <td>78.220000</td>\n",
       "      <td>179.320000</td>\n",
       "      <td>100.330000</td>\n",
       "      <td>100.000000</td>\n",
       "      <td>100.000000</td>\n",
       "      <td>36.910000</td>\n",
       "      <td>1.609774e+09</td>\n",
       "    </tr>\n",
       "  </tbody>\n",
       "</table>\n",
       "</div>"
      ],
      "text/plain": [
       "              Lat         Lng    Max Temp    Humidity  Cloudiness  Wind Speed  \\\n",
       "count  546.000000  546.000000  546.000000  546.000000  546.000000  546.000000   \n",
       "mean    19.543974   16.134322   51.171245   74.732601   57.454212    8.535495   \n",
       "std     34.292894   91.882241   33.626850   18.698229   38.302546    5.860271   \n",
       "min    -54.800000 -179.170000  -49.650000   10.000000    0.000000    0.580000   \n",
       "25%     -8.815000  -62.067500   32.000000   65.250000   20.000000    4.540000   \n",
       "50%     22.300000   19.100000   60.800000   79.000000   75.000000    6.930000   \n",
       "75%     48.977500  100.560000   78.800000   87.750000   91.000000   11.410000   \n",
       "max     78.220000  179.320000  100.330000  100.000000  100.000000   36.910000   \n",
       "\n",
       "               Date  \n",
       "count  5.460000e+02  \n",
       "mean   1.609773e+09  \n",
       "std    2.057868e+02  \n",
       "min    1.609773e+09  \n",
       "25%    1.609773e+09  \n",
       "50%    1.609773e+09  \n",
       "75%    1.609774e+09  \n",
       "max    1.609774e+09  "
      ]
     },
     "execution_count": 9,
     "metadata": {},
     "output_type": "execute_result"
    }
   ],
   "source": [
    "cities_df.describe()"
   ]
  },
  {
   "cell_type": "markdown",
   "metadata": {},
   "source": [
    "## Inspect the data and remove the cities where the humidity > 100%.\n",
    "----\n",
    "Skip this step if there are no cities that have humidity > 100%. "
   ]
  },
  {
   "cell_type": "code",
   "execution_count": 10,
   "metadata": {},
   "outputs": [
    {
     "data": {
      "text/html": [
       "<div>\n",
       "<style scoped>\n",
       "    .dataframe tbody tr th:only-of-type {\n",
       "        vertical-align: middle;\n",
       "    }\n",
       "\n",
       "    .dataframe tbody tr th {\n",
       "        vertical-align: top;\n",
       "    }\n",
       "\n",
       "    .dataframe thead th {\n",
       "        text-align: right;\n",
       "    }\n",
       "</style>\n",
       "<table border=\"1\" class=\"dataframe\">\n",
       "  <thead>\n",
       "    <tr style=\"text-align: right;\">\n",
       "      <th></th>\n",
       "      <th>City</th>\n",
       "      <th>Lat</th>\n",
       "      <th>Lng</th>\n",
       "      <th>Max Temp</th>\n",
       "      <th>Humidity</th>\n",
       "      <th>Cloudiness</th>\n",
       "      <th>Wind Speed</th>\n",
       "      <th>Country</th>\n",
       "      <th>Date</th>\n",
       "    </tr>\n",
       "  </thead>\n",
       "  <tbody>\n",
       "    <tr>\n",
       "      <th>0</th>\n",
       "      <td>Sungai Penuh</td>\n",
       "      <td>-2.08</td>\n",
       "      <td>101.38</td>\n",
       "      <td>67.80</td>\n",
       "      <td>90</td>\n",
       "      <td>91</td>\n",
       "      <td>3.24</td>\n",
       "      <td>ID</td>\n",
       "      <td>1609773157</td>\n",
       "    </tr>\n",
       "    <tr>\n",
       "      <th>1</th>\n",
       "      <td>Rome</td>\n",
       "      <td>43.21</td>\n",
       "      <td>-75.46</td>\n",
       "      <td>33.80</td>\n",
       "      <td>86</td>\n",
       "      <td>90</td>\n",
       "      <td>1.83</td>\n",
       "      <td>US</td>\n",
       "      <td>1609773102</td>\n",
       "    </tr>\n",
       "    <tr>\n",
       "      <th>2</th>\n",
       "      <td>Cairns</td>\n",
       "      <td>-16.92</td>\n",
       "      <td>145.77</td>\n",
       "      <td>78.80</td>\n",
       "      <td>94</td>\n",
       "      <td>75</td>\n",
       "      <td>3.36</td>\n",
       "      <td>AU</td>\n",
       "      <td>1609773033</td>\n",
       "    </tr>\n",
       "    <tr>\n",
       "      <th>3</th>\n",
       "      <td>Kapaa</td>\n",
       "      <td>22.08</td>\n",
       "      <td>-159.32</td>\n",
       "      <td>73.40</td>\n",
       "      <td>78</td>\n",
       "      <td>75</td>\n",
       "      <td>10.29</td>\n",
       "      <td>US</td>\n",
       "      <td>1609773161</td>\n",
       "    </tr>\n",
       "    <tr>\n",
       "      <th>4</th>\n",
       "      <td>Rikitea</td>\n",
       "      <td>-23.12</td>\n",
       "      <td>-134.97</td>\n",
       "      <td>77.14</td>\n",
       "      <td>81</td>\n",
       "      <td>17</td>\n",
       "      <td>15.55</td>\n",
       "      <td>PF</td>\n",
       "      <td>1609773162</td>\n",
       "    </tr>\n",
       "  </tbody>\n",
       "</table>\n",
       "</div>"
      ],
      "text/plain": [
       "           City    Lat     Lng  Max Temp  Humidity  Cloudiness  Wind Speed  \\\n",
       "0  Sungai Penuh  -2.08  101.38     67.80        90          91        3.24   \n",
       "1          Rome  43.21  -75.46     33.80        86          90        1.83   \n",
       "2        Cairns -16.92  145.77     78.80        94          75        3.36   \n",
       "3         Kapaa  22.08 -159.32     73.40        78          75       10.29   \n",
       "4       Rikitea -23.12 -134.97     77.14        81          17       15.55   \n",
       "\n",
       "  Country        Date  \n",
       "0      ID  1609773157  \n",
       "1      US  1609773102  \n",
       "2      AU  1609773033  \n",
       "3      US  1609773161  \n",
       "4      PF  1609773162  "
      ]
     },
     "execution_count": 10,
     "metadata": {},
     "output_type": "execute_result"
    }
   ],
   "source": [
    "# Make a new DataFrame equal to the city data to drop all humidity outliers by index.\n",
    "clean_city_df = cities_df.loc[cities_df[\"Humidity\"] <= 100, :]\n",
    "clean_city_df.head()"
   ]
  },
  {
   "cell_type": "markdown",
   "metadata": {},
   "source": [
    "## Plotting the Data\n",
    "* Use proper labeling of the plots using plot titles (including date of analysis) and axes labels.\n",
    "* Save the plotted figures as .pngs."
   ]
  },
  {
   "cell_type": "markdown",
   "metadata": {},
   "source": [
    "## Latitude vs. Temperature Plot"
   ]
  },
  {
   "cell_type": "code",
   "execution_count": 31,
   "metadata": {
    "scrolled": true
   },
   "outputs": [
    {
     "data": {
      "image/png": "[encoded data removed]",
      "text/plain": [
       "<Figure size 432x288 with 1 Axes>"
      ]
     },
     "metadata": {
      "needs_background": "light"
     },
     "output_type": "display_data"
    }
   ],
   "source": [
    "buildLatPlot(\"Max Temp\", \"Max Temperature (F)\", clean_city_df, title_prefix=\"Overall - \", grid=True, save=True)"
   ]
  },
  {
   "cell_type": "markdown",
   "metadata": {},
   "source": [
    "##### Jan. 4th, 2021 Analysis:\n",
    "This plot depicts the correlation between a city's maximum temperature and its latitude. Overall, the points are relatively tightly clustered with about 20 degrees Fahrenheit of separation between all cities at a specific latitude. This holds true from -60 degrees to about 25 degrees latitude where the variance begins to increase. The trend still holds true -- the closer to the equator, the greater the maximum temperature -- but above 25 degrees latitude, the correlation weakens slightly."
   ]
  },
  {
   "cell_type": "markdown",
   "metadata": {},
   "source": [
    "## Latitude vs. Humidity Plot"
   ]
  },
  {
   "cell_type": "code",
   "execution_count": 32,
   "metadata": {},
   "outputs": [
    {
     "data": {
      "image/png": "[encoded data removed]",
      "text/plain": [
       "<Figure size 432x288 with 1 Axes>"
      ]
     },
     "metadata": {
      "needs_background": "light"
     },
     "output_type": "display_data"
    }
   ],
   "source": [
    "buildLatPlot(\"Humidity\", \"Humidity (%)\", clean_city_df, title_prefix=\"Overall - \", grid=True, save=True)"
   ]
  },
  {
   "cell_type": "markdown",
   "metadata": {},
   "source": [
    "##### Jan. 4th, 2021 Analysis:\n",
    "This plot depicts the correlation between a city's humidity percentage and its latitude. Since the points are relatively spread out with a slightly more concentrated portion in the 50-70 degrees latitude and 70-90% humidity. This visual bunching may also just be a product of more cities getting included in that latitude. Overall, the correlation is very weak suggesting that latitude may not play a major role in a city's humidity. Further year-round testing would be needed to strengthen/debunk this observation."
   ]
  },
  {
   "cell_type": "markdown",
   "metadata": {},
   "source": [
    "## Latitude vs. Cloudiness Plot"
   ]
  },
  {
   "cell_type": "code",
   "execution_count": 33,
   "metadata": {},
   "outputs": [
    {
     "data": {
      "image/png": "[encoded data removed]",
      "text/plain": [
       "<Figure size 432x288 with 1 Axes>"
      ]
     },
     "metadata": {
      "needs_background": "light"
     },
     "output_type": "display_data"
    }
   ],
   "source": [
    "buildLatPlot(\"Cloudiness\", \"Cloudiness (%)\", clean_city_df, title_prefix=\"Overall - \", grid=True, save=True)"
   ]
  },
  {
   "cell_type": "markdown",
   "metadata": {},
   "source": [
    "##### Jan. 4th, 2021 Analysis:\n",
    "This plot depicts the correlation between a city's cloudiness percentage and its latitude. As with humidity, more year-round data would be needed to develop an understanding as to whether latitude plays a role in cloudiness."
   ]
  },
  {
   "cell_type": "markdown",
   "metadata": {},
   "source": [
    "## Latitude vs. Wind Speed Plot"
   ]
  },
  {
   "cell_type": "code",
   "execution_count": 34,
   "metadata": {},
   "outputs": [
    {
     "data": {
      "image/png": "[encoded data removed]",
      "text/plain": [
       "<Figure size 432x288 with 1 Axes>"
      ]
     },
     "metadata": {
      "needs_background": "light"
     },
     "output_type": "display_data"
    }
   ],
   "source": [
    "buildLatPlot(\"Wind Speed\", \"Wind Speed (mph)\", clean_city_df, title_prefix=\"Overall - \", grid=True, save=True)"
   ]
  },
  {
   "cell_type": "markdown",
   "metadata": {},
   "source": [
    "##### Jan. 4th, 2021 Analysis:\n",
    "This plot depicts the correlation between a city's wind speed and its latitude. Generally, the wind speed does not seem to be impacted by the latitude -- again, more year-round data would help with this claim. However, it is interesting to point out that the clear outliers (> 25mph) all exist outside of the tropics. May be a coincidence of the data pulled today, but might be something to look for in the future."
   ]
  },
  {
   "cell_type": "markdown",
   "metadata": {},
   "source": [
    "## Linear Regression"
   ]
  },
  {
   "cell_type": "code",
   "execution_count": 35,
   "metadata": {},
   "outputs": [],
   "source": [
    "# Collect hemisphere-specific data\n",
    "# Both include cities on the Equator\n",
    "north_hemi_df = clean_city_df.loc[clean_city_df[\"Lat\"] >= 0, :]\n",
    "south_hemi_df = clean_city_df.loc[clean_city_df[\"Lat\"] <= 0, :]"
   ]
  },
  {
   "cell_type": "markdown",
   "metadata": {},
   "source": [
    "####  Northern Hemisphere - Max Temp vs. Latitude Linear Regression"
   ]
  },
  {
   "cell_type": "code",
   "execution_count": 36,
   "metadata": {},
   "outputs": [
    {
     "ename": "SyntaxError",
     "evalue": "positional argument follows keyword argument (<ipython-input-36-57950bc9ccbe>, line 1)",
     "output_type": "error",
     "traceback": [
      "\u001b[1;36m  File \u001b[1;32m\"<ipython-input-36-57950bc9ccbe>\"\u001b[1;36m, line \u001b[1;32m1\u001b[0m\n\u001b[1;33m    buildLatPlot(\"Max Temp\", \"Max Temperature (F)\", title_prefix=\"Northern - \", north_hemi_df, linregress=True, save=True)\u001b[0m\n\u001b[1;37m                                                                                ^\u001b[0m\n\u001b[1;31mSyntaxError\u001b[0m\u001b[1;31m:\u001b[0m positional argument follows keyword argument\n"
     ]
    }
   ],
   "source": [
    "buildLatPlot(\"Max Temp\", \"Max Temperature (F)\", north_hemi_df, title_prefix=\"Northern - \", linregress=True, save=True)"
   ]
  },
  {
   "cell_type": "markdown",
   "metadata": {},
   "source": [
    "####  Southern Hemisphere - Max Temp vs. Latitude Linear Regression"
   ]
  },
  {
   "cell_type": "code",
   "execution_count": 37,
   "metadata": {},
   "outputs": [
    {
     "ename": "SyntaxError",
     "evalue": "positional argument follows keyword argument (<ipython-input-37-52d7c446a93f>, line 1)",
     "output_type": "error",
     "traceback": [
      "\u001b[1;36m  File \u001b[1;32m\"<ipython-input-37-52d7c446a93f>\"\u001b[1;36m, line \u001b[1;32m1\u001b[0m\n\u001b[1;33m    buildLatPlot(\"Max Temp\", \"Max Temperature (F)\", title_prefix=\"Southern - \", south_hemi_df, linregress=True, save=True)\u001b[0m\n\u001b[1;37m                                                                                ^\u001b[0m\n\u001b[1;31mSyntaxError\u001b[0m\u001b[1;31m:\u001b[0m positional argument follows keyword argument\n"
     ]
    }
   ],
   "source": [
    "buildLatPlot(\"Max Temp\", \"Max Temperature (F)\", title_prefix=\"Southern - \", south_hemi_df, linregress=True, save=True)"
   ]
  },
  {
   "cell_type": "markdown",
   "metadata": {},
   "source": [
    "####  Northern Hemisphere - Humidity (%) vs. Latitude Linear Regression"
   ]
  },
  {
   "cell_type": "code",
   "execution_count": 38,
   "metadata": {},
   "outputs": [
    {
     "ename": "SyntaxError",
     "evalue": "positional argument follows keyword argument (<ipython-input-38-b1a363ade92e>, line 1)",
     "output_type": "error",
     "traceback": [
      "\u001b[1;36m  File \u001b[1;32m\"<ipython-input-38-b1a363ade92e>\"\u001b[1;36m, line \u001b[1;32m1\u001b[0m\n\u001b[1;33m    buildLatPlot(\"Humidity\", \"Humidity (%)\", title_prefix=\"Northern - \", north_hemi_df, linregress=True, save=True)\u001b[0m\n\u001b[1;37m                                                                         ^\u001b[0m\n\u001b[1;31mSyntaxError\u001b[0m\u001b[1;31m:\u001b[0m positional argument follows keyword argument\n"
     ]
    }
   ],
   "source": [
    "buildLatPlot(\"Humidity\", \"Humidity (%)\", north_hemi_df, title_prefix=\"Northern - \", linregress=True, save=True)"
   ]
  },
  {
   "cell_type": "markdown",
   "metadata": {},
   "source": [
    "####  Southern Hemisphere - Humidity (%) vs. Latitude Linear Regression"
   ]
  },
  {
   "cell_type": "code",
   "execution_count": 39,
   "metadata": {},
   "outputs": [
    {
     "ename": "SyntaxError",
     "evalue": "positional argument follows keyword argument (<ipython-input-39-2a5285cd6d99>, line 1)",
     "output_type": "error",
     "traceback": [
      "\u001b[1;36m  File \u001b[1;32m\"<ipython-input-39-2a5285cd6d99>\"\u001b[1;36m, line \u001b[1;32m1\u001b[0m\n\u001b[1;33m    buildLatPlot(\"Humidity\", \"Humidity (%)\", title_prefix=\"Southern - \", south_hemi_df, linregress=True, save=True)\u001b[0m\n\u001b[1;37m                                                                         ^\u001b[0m\n\u001b[1;31mSyntaxError\u001b[0m\u001b[1;31m:\u001b[0m positional argument follows keyword argument\n"
     ]
    }
   ],
   "source": [
    "buildLatPlot(\"Humidity\", \"Humidity (%)\",south_hemi_df, linregress=True, save=True)"
   ]
  },
  {
   "cell_type": "markdown",
   "metadata": {},
   "source": [
    "####  Northern Hemisphere - Cloudiness (%) vs. Latitude Linear Regression"
   ]
  },
  {
   "cell_type": "code",
   "execution_count": 40,
   "metadata": {},
   "outputs": [
    {
     "ename": "SyntaxError",
     "evalue": "positional argument follows keyword argument (<ipython-input-40-94e1166c117a>, line 1)",
     "output_type": "error",
     "traceback": [
      "\u001b[1;36m  File \u001b[1;32m\"<ipython-input-40-94e1166c117a>\"\u001b[1;36m, line \u001b[1;32m1\u001b[0m\n\u001b[1;33m    buildLatPlot(\"Cloudiness\", \"Cloudiness (%)\", title_prefix=\"Northern - \", north_hemi_df, linregress=True, save=True)\u001b[0m\n\u001b[1;37m                                                                             ^\u001b[0m\n\u001b[1;31mSyntaxError\u001b[0m\u001b[1;31m:\u001b[0m positional argument follows keyword argument\n"
     ]
    }
   ],
   "source": [
    "buildLatPlot(\"Cloudiness\", \"Cloudiness (%)\", north_hemi_df, title_prefix=\"Northern - \", linregress=True, save=True)"
   ]
  },
  {
   "cell_type": "markdown",
   "metadata": {},
   "source": [
    "####  Southern Hemisphere - Cloudiness (%) vs. Latitude Linear Regression"
   ]
  },
  {
   "cell_type": "code",
   "execution_count": 21,
   "metadata": {},
   "outputs": [
    {
     "name": "stdout",
     "output_type": "stream",
     "text": [
      "The r-value is: 0.13332140054926364\n"
     ]
    },
    {
     "data": {
      "image/png": "[encoded data removed]",
      "text/plain": [
       "<Figure size 432x288 with 1 Axes>"
      ]
     },
     "metadata": {
      "needs_background": "light"
     },
     "output_type": "display_data"
    }
   ],
   "source": [
    "buildLatPlot(\"Cloudiness\", \"Cloudiness (%)\", south_hemi_df, title_prefix=\"Southern - \", linregress=True, save=True)"
   ]
  },
  {
   "cell_type": "markdown",
   "metadata": {},
   "source": [
    "####  Northern Hemisphere - Wind Speed (mph) vs. Latitude Linear Regression"
   ]
  },
  {
   "cell_type": "code",
   "execution_count": 22,
   "metadata": {},
   "outputs": [
    {
     "name": "stdout",
     "output_type": "stream",
     "text": [
      "The r-value is: 0.1919008496080922\n"
     ]
    },
    {
     "data": {
      "image/png": "[encoded data removed]",
      "text/plain": [
       "<Figure size 432x288 with 1 Axes>"
      ]
     },
     "metadata": {
      "needs_background": "light"
     },
     "output_type": "display_data"
    }
   ],
   "source": [
    "buildLatPlot(\"Wind Speed\", \"Wind Speed (mph)\", north_hemi_df, title_prefix=\"Northern - \", linregress=True, save=True)"
   ]
  },
  {
   "cell_type": "markdown",
   "metadata": {},
   "source": [
    "####  Southern Hemisphere - Wind Speed (mph) vs. Latitude Linear Regression"
   ]
  },
  {
   "cell_type": "code",
   "execution_count": 23,
   "metadata": {},
   "outputs": [
    {
     "name": "stdout",
     "output_type": "stream",
     "text": [
      "The r-value is: -0.17057095991155705\n"
     ]
    },
    {
     "data": {
      "image/png": "[encoded data removed]",
      "text/plain": [
       "<Figure size 432x288 with 1 Axes>"
      ]
     },
     "metadata": {
      "needs_background": "light"
     },
     "output_type": "display_data"
    }
   ],
   "source": [
    "buildLatPlot(\"Wind Speed\", \"Wind Speed (mph)\", south_hemi_df, title_prefix=\"Southern - \", linregress=True, save=True)"
   ]
  }
 ],
 "metadata": {
  "anaconda-cloud": {},
  "kernel_info": {
   "name": "python3"
  },
  "kernelspec": {
   "display_name": "Python 3",
   "language": "python",
   "name": "python3"
  },
  "language_info": {
   "codemirror_mode": {
    "name": "ipython",
    "version": 3
   },
   "file_extension": ".py",
   "mimetype": "text/x-python",
   "name": "python",
   "nbconvert_exporter": "python",
   "pygments_lexer": "ipython3",
   "version": "3.8.3"
  },
  "latex_envs": {
   "LaTeX_envs_menu_present": true,
   "autoclose": false,
   "autocomplete": true,
   "bibliofile": "biblio.bib",
   "cite_by": "apalike",
   "current_citInitial": 1,
   "eqLabelWithNumbers": true,
   "eqNumInitial": 1,
   "hotkeys": {
    "equation": "Ctrl-E",
    "itemize": "Ctrl-I"
   },
   "labels_anchors": false,
   "latex_user_defs": false,
   "report_style_numbering": false,
   "user_envs_cfg": false
  },
  "nteract": {
   "version": "0.12.3"
  }
 },
 "nbformat": 4,
 "nbformat_minor": 2
}
